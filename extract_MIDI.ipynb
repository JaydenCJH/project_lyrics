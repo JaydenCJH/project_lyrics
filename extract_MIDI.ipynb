{
 "cells": [
  {
   "cell_type": "code",
   "execution_count": 1,
   "metadata": {},
   "outputs": [],
   "source": [
    "from selenium import webdriver\n",
    "from selenium.webdriver.common.by import By\n",
    "from selenium.webdriver.common.keys import Keys\n",
    "import time\n",
    "import random\n",
    "\n",
    "import pandas as pd"
   ]
  },
  {
   "cell_type": "code",
   "execution_count": 31,
   "metadata": {},
   "outputs": [],
   "source": [
    "artist_list = []\n",
    "title_list = []"
   ]
  },
  {
   "cell_type": "code",
   "execution_count": 38,
   "metadata": {},
   "outputs": [
    {
     "name": "stdout",
     "output_type": "stream",
     "text": [
      "28\n"
     ]
    },
    {
     "ename": "AttributeError",
     "evalue": "'list' object has no attribute 'text'",
     "output_type": "error",
     "traceback": [
      "\u001b[1;31m---------------------------------------------------------------------------\u001b[0m",
      "\u001b[1;31mAttributeError\u001b[0m                            Traceback (most recent call last)",
      "Cell \u001b[1;32mIn[38], line 18\u001b[0m\n\u001b[0;32m     16\u001b[0m num_songs \u001b[38;5;241m=\u001b[39m driver\u001b[38;5;241m.\u001b[39mfind_elements(By\u001b[38;5;241m.\u001b[39mXPATH , \u001b[38;5;124m\"\u001b[39m\u001b[38;5;124m/html/body/div[2]/div[8]/div[1]/div[2]/div[1]/div/div\u001b[39m\u001b[38;5;124m\"\u001b[39m)\n\u001b[0;32m     17\u001b[0m \u001b[38;5;28mprint\u001b[39m(\u001b[38;5;28mlen\u001b[39m(num_songs))\n\u001b[1;32m---> 18\u001b[0m \u001b[38;5;28mprint\u001b[39m(\u001b[43mnum_songs\u001b[49m\u001b[38;5;241;43m.\u001b[39;49m\u001b[43mtext\u001b[49m)\n\u001b[0;32m     20\u001b[0m \u001b[38;5;66;03m# for title in range(1, len(num_songs)):\u001b[39;00m\n\u001b[0;32m     21\u001b[0m \u001b[38;5;66;03m#     song = driver.find_element(By.XPATH, \"/html/body/div[2]/div[8]/div[1]/div[2]/div[1]/div/div[{}]\".format(title))\u001b[39;00m\n\u001b[0;32m     22\u001b[0m \u001b[38;5;66;03m#     song.click()\u001b[39;00m\n\u001b[1;32m   (...)\u001b[0m\n\u001b[0;32m     26\u001b[0m \n\u001b[0;32m     27\u001b[0m \u001b[38;5;66;03m# driver.quit()\u001b[39;00m\n",
      "\u001b[1;31mAttributeError\u001b[0m: 'list' object has no attribute 'text'"
     ]
    }
   ],
   "source": [
    "\n",
    "chrome_options = webdriver.ChromeOptions()\n",
    "prefs = {'download.default_directory': r'C:\\Users\\User\\Desktop\\Code\\Github\\project_lyrics\\MIDI\\pop'}\n",
    "chrome_options.add_experimental_option('prefs', prefs)\n",
    "driver = webdriver.Chrome(options=chrome_options)\n",
    "\n",
    "\n",
    "base_url = \"https://freemidi.org/genre-pop\"\n",
    "driver.get(base_url)\n",
    "url_art = \"/html/body/div[2]/div[8]/div[2]/div/a[2]\"\n",
    "element = driver.find_element(By.XPATH, url_art)\n",
    "element.click()\n",
    "driver.back()\n",
    "element.click()\n",
    "\n",
    "\n",
    "num_songs = driver.find_elements(By.XPATH , \"/html/body/div[2]/div[8]/div[1]/div[2]/div[1]/div/div\")\n",
    "print(len(num_songs))\n",
    "print(num_songs.text)\n",
    "\n",
    "for title in range(1, len(num_songs)):\n",
    "    song = driver.find_element(By.XPATH, \"/html/body/div[2]/div[8]/div[1]/div[2]/div[1]/div/div[{}]\".format(title))\n",
    "    song.click()\n",
    "    # download = driver.find_element(By.XPATH, \"/html/body/div[2]/div[8]/div[1]/div/div[1]/div[3]/a[1]\").click()\n",
    "    driver.back()\n",
    "    title += 1\n",
    "\n",
    "driver.quit()\n"
   ]
  },
  {
   "cell_type": "code",
   "execution_count": 45,
   "metadata": {},
   "outputs": [
    {
     "name": "stdout",
     "output_type": "stream",
     "text": [
      "C:\\Users\\User\\Desktop\\Code\\Github\\project_lyrics\\MIDI\\pop\\abc\n"
     ]
    }
   ],
   "source": [
    "print(prefs['download.default_directory'] + '\\\\' + 'abc')\n",
    "# print(prefs)"
   ]
  },
  {
   "cell_type": "code",
   "execution_count": 35,
   "metadata": {},
   "outputs": [
    {
     "name": "stdout",
     "output_type": "stream",
     "text": [
      "015b\n"
     ]
    }
   ],
   "source": [
    "chrome_options = webdriver.ChromeOptions()\n",
    "prefs = {'download.default_directory': r'C:\\Users\\User\\Desktop\\Code\\Github\\project_lyrics\\MIDI\\pop'}\n",
    "chrome_options.add_experimental_option('prefs', prefs)\n",
    "\n",
    "\n",
    "driver = webdriver.Chrome(options=chrome_options)\n",
    "base_url = \"https://freemidi.org/genre-pop\"\n",
    "driver.get(base_url)\n",
    "\n",
    "\n",
    "\n",
    "url_art = \"/html/body/div[2]/div[8]/div[2]/div/a[2]\"\n",
    "element = driver.find_element(By.XPATH, url_art)\n",
    "artist_list\n",
    "\n",
    "# print(element.text)\n",
    "# element.click()\n",
    "# driver.back()\n",
    "# element.click()"
   ]
  },
  {
   "cell_type": "code",
   "execution_count": null,
   "metadata": {},
   "outputs": [],
   "source": [
    "driver = webdriver.Chrome()\n",
    "\n",
    "base_url = \"https://freemidi.org/genre-pop\"\n",
    "\n",
    "for artist in range(2,7):\n",
    "    driver.get(base_url)\n",
    "\n",
    "    try:\n",
    "        url_art = \"/html/body/div[2]/div[8]/div{}/div/a[2]\".format(artist)\n",
    "        element = driver.find_element(By.XPATH, url_art)\n",
    "        element.click()\n",
    "\n",
    "        num_songs = driver.find_elements(By.XPATH , \"/html/body/div[2]/div[8]/div[1]/div[2]/div[1]/div/div\")\n",
    "\n",
    "        for title in range(len(num_songs)):\n",
    "             \n",
    "\n",
    "    except:\n",
    "            driver.back()\n",
    "            j += 1\n",
    "    \n"
   ]
  }
 ],
 "metadata": {
  "kernelspec": {
   "display_name": "my_env_py311",
   "language": "python",
   "name": "python3"
  },
  "language_info": {
   "codemirror_mode": {
    "name": "ipython",
    "version": 3
   },
   "file_extension": ".py",
   "mimetype": "text/x-python",
   "name": "python",
   "nbconvert_exporter": "python",
   "pygments_lexer": "ipython3",
   "version": "3.11.8"
  }
 },
 "nbformat": 4,
 "nbformat_minor": 2
}
