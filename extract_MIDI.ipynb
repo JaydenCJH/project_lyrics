{
 "cells": [
  {
   "cell_type": "code",
   "execution_count": 1,
   "metadata": {},
   "outputs": [],
   "source": [
    "from selenium import webdriver\n",
    "from selenium.webdriver.common.by import By\n",
    "from selenium.webdriver.common.keys import Keys\n",
    "import time\n",
    "import random\n",
    "\n",
    "import pandas as pd"
   ]
  },
  {
   "cell_type": "code",
   "execution_count": 31,
   "metadata": {},
   "outputs": [],
   "source": [
    "artist_list = []\n",
    "title_list = []"
   ]
  },
  {
   "cell_type": "code",
   "execution_count": 33,
   "metadata": {},
   "outputs": [
    {
     "name": "stdout",
     "output_type": "stream",
     "text": [
      "28\n"
     ]
    }
   ],
   "source": [
    "\n",
    "chrome_options = webdriver.ChromeOptions()\n",
    "prefs = {'download.default_directory': r'C:\\Users\\User\\Desktop\\Code\\Github\\project_lyrics\\MIDI\\pop'}\n",
    "chrome_options.add_experimental_option('prefs', prefs)\n",
    "driver = webdriver.Chrome(options=chrome_options)\n",
    "\n",
    "\n",
    "base_url = \"https://freemidi.org/genre-pop\"\n",
    "driver.get(base_url)\n",
    "url_art = \"/html/body/div[2]/div[8]/div[2]/div/a[2]\"\n",
    "element = driver.find_element(By.XPATH, url_art)\n",
    "element.click()\n",
    "driver.back()\n",
    "element.click()\n",
    "\n",
    "\n",
    "num_songs = driver.find_elements(By.XPATH , \"/html/body/div[2]/div[8]/div[1]/div[2]/div[1]/div/div\")\n",
    "print(len(num_songs))\n",
    "\n",
    "for title in range(1, len(num_songs)):\n",
    "    song = driver.find_element(By.XPATH, \"/html/body/div[2]/div[8]/div[1]/div[2]/div[1]/div/div[{}]\".format(title))\n",
    "    song.click()\n",
    "    download = driver.find_element(By.XPATH, \"/html/body/div[2]/div[8]/div[1]/div/div[1]/div[3]/a[1]\").click()\n",
    "    driver.back()\n",
    "    title += 1\n",
    "\n",
    "driver.quit()\n"
   ]
  },
  {
   "cell_type": "code",
   "execution_count": null,
   "metadata": {},
   "outputs": [],
   "source": [
    "chrome_options = webdriver.ChromeOptions()\n",
    "prefs = {'download.default_directory': r'C:\\Users\\User\\Desktop\\Code\\Github\\project_lyrics\\MIDI\\pop'}\n",
    "chrome_options.add_experimental_option('prefs', prefs)\n",
    "driver = webdriver.Chrome(options=chrome_options)\n",
    "\n",
    "\n",
    "base_url = \"https://freemidi.org/genre-pop\"\n",
    "driver.get(base_url)\n",
    "url_art = \"/html/body/div[2]/div[8]/div[2]/div/a[2]\"\n",
    "element = driver.find_element(By.XPATH, url_art)\n",
    "element.click()\n",
    "driver.back()\n",
    "element.click()"
   ]
  },
  {
   "cell_type": "code",
   "execution_count": null,
   "metadata": {},
   "outputs": [],
   "source": [
    "driver = webdriver.Chrome()\n",
    "\n",
    "base_url = \"https://freemidi.org/genre-pop\"\n",
    "\n",
    "for artist in range(2,7):\n",
    "    driver.get(base_url)\n",
    "\n",
    "    try:\n",
    "        url_art = \"/html/body/div[2]/div[8]/div{}/div/a[2]\".format(artist)\n",
    "        element = driver.find_element(By.XPATH, url_art)\n",
    "        element.click()\n",
    "\n",
    "        num_songs = driver.find_elements(By.XPATH , \"/html/body/div[2]/div[8]/div[1]/div[2]/div[1]/div/div\")\n",
    "\n",
    "        for title in range(len(num_songs)):\n",
    "             \n",
    "\n",
    "    except:\n",
    "            driver.back()\n",
    "            j += 1\n",
    "    \n"
   ]
  }
 ],
 "metadata": {
  "kernelspec": {
   "display_name": "my_env_py311",
   "language": "python",
   "name": "python3"
  },
  "language_info": {
   "codemirror_mode": {
    "name": "ipython",
    "version": 3
   },
   "file_extension": ".py",
   "mimetype": "text/x-python",
   "name": "python",
   "nbconvert_exporter": "python",
   "pygments_lexer": "ipython3",
   "version": "3.11.8"
  }
 },
 "nbformat": 4,
 "nbformat_minor": 2
}
