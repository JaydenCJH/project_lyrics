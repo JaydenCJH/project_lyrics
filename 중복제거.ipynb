{
 "cells": [
  {
   "cell_type": "code",
   "execution_count": 1,
   "metadata": {},
   "outputs": [
    {
     "name": "stdout",
     "output_type": "stream",
     "text": [
      "<class 'pandas.core.frame.DataFrame'>\n",
      "Index: 3236 entries, 0 to 4651\n",
      "Data columns (total 4 columns):\n",
      " #   Column  Non-Null Count  Dtype \n",
      "---  ------  --------------  ----- \n",
      " 0   Title   3236 non-null   object\n",
      " 1   Likes   3236 non-null   object\n",
      " 2   Singer  3236 non-null   object\n",
      " 3   Lyrics  3236 non-null   object\n",
      "dtypes: object(4)\n",
      "memory usage: 126.4+ KB\n"
     ]
    }
   ],
   "source": [
    "import pandas as pd\n",
    "\n",
    "df = pd.read_csv('songs(발라드, 병합).csv')\n",
    "\n",
    "df = df.drop_duplicates(keep='first')\n",
    "df.info()\n",
    "df.to_csv('발라드_4841곡_240402.csv')"
   ]
  }
 ],
 "metadata": {
  "kernelspec": {
   "display_name": "lyl2",
   "language": "python",
   "name": "python3"
  },
  "language_info": {
   "codemirror_mode": {
    "name": "ipython",
    "version": 3
   },
   "file_extension": ".py",
   "mimetype": "text/x-python",
   "name": "python",
   "nbconvert_exporter": "python",
   "pygments_lexer": "ipython3",
   "version": "3.11.8"
  }
 },
 "nbformat": 4,
 "nbformat_minor": 2
}
