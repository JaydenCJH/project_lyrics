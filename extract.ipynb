{
 "cells": [
  {
   "cell_type": "code",
   "execution_count": 16,
   "metadata": {},
   "outputs": [],
   "source": [
    "from selenium import webdriver\n",
    "from selenium.webdriver.common.by import By\n",
    "from selenium.webdriver.common.keys import Keys\n",
    "import time\n",
    "import random\n",
    "\n",
    "import pandas as pd"
   ]
  },
  {
   "cell_type": "code",
   "execution_count": 17,
   "metadata": {},
   "outputs": [],
   "source": [
    "title_list = []\n",
    "likes_list = []\n",
    "singer_list = []\n",
    "lyrics_list = []"
   ]
  },
  {
   "cell_type": "code",
   "execution_count": 21,
   "metadata": {},
   "outputs": [
    {
     "name": "stdout",
     "output_type": "stream",
     "text": [
      "5107번째 곡\n",
      "Title : 도망가자 (HAPPINESS KR Ver.)\n",
      "Singer : 펜타곤\n",
      "5109번째 곡\n",
      "Title : Flame\n",
      "Singer : CRAVITY\n"
     ]
    }
   ],
   "source": [
    "driver = webdriver.Chrome()\n",
    "\n",
    "random_sec = random.uniform(0, 1)\n",
    "i = 0\n",
    "j = 0\n",
    "\n",
    "for i in range(81, 110):\n",
    "    i = i * 50 + 1\n",
    "    url = \"https://www.melon.com/genre/song_list.htm?gnrCode=GN0200#params%5BgnrCode%5D=GN0200&params%5BdtlGnrCode%5D=&params%5BorderBy%5D=POP&params%5BsteadyYn%5D=N&po=pageObj&startIndex={}\".format(i)\n",
    "    driver.get(url)\n",
    "    for j in range(1, 51):\n",
    "        try:\n",
    "            time.sleep(random_sec)\n",
    "            url2 = \"/html/body/div/div[3]/div/div/div[5]/form/div/table/tbody/tr[{}]/td[4]/div/a\".format(j)\n",
    "            element = driver.find_element(By.XPATH, url2)\n",
    "            element.click()\n",
    "            title = driver.find_element(By.XPATH, \"/html/body/div[1]/div[3]/div/div/div/form/div/div/div[2]/div[1]/div[1]\")\n",
    "            likes = driver.find_element(By.XPATH, \"/html/body/div[1]/div[3]/div/div/div/form/div/div/div[2]/div[3]/button[1]/span[2]\")\n",
    "            singer = driver.find_element(By.XPATH, \"/html/body/div[1]/div[3]/div/div/div/form/div/div/div[2]/div[1]/div[2]/a/span[1]\")\n",
    "            lyrics = driver.find_element(By.XPATH, \"/html/body/div[1]/div[3]/div/div/div/div[2]/div[2]/div\")\n",
    "            print (\"{}번째 곡\".format(i+j-1))\n",
    "            print (\"Title :\",title.text)\n",
    "            #print (\"Likes :\",likes.text)\n",
    "            print (\"Singer :\",singer.text)\n",
    "            #print (\"Lyrics :\")\n",
    "            #print (lyrics.text)\n",
    "            title_list.append(title.text)\n",
    "            likes_list.append(likes.text)\n",
    "            singer_list.append(singer.text)\n",
    "            lyrics_list.append(lyrics.text)\n",
    "            driver.back()\n",
    "            j += 1\n",
    "        except:\n",
    "            driver.back()\n",
    "            j += 1\n",
    "    driver.back()\n",
    "    i += 1 \n",
    "\n",
    "driver.quit()"
   ]
  },
  {
   "cell_type": "code",
   "execution_count": 23,
   "metadata": {},
   "outputs": [
    {
     "data": {
      "text/html": [
       "<div>\n",
       "<style scoped>\n",
       "    .dataframe tbody tr th:only-of-type {\n",
       "        vertical-align: middle;\n",
       "    }\n",
       "\n",
       "    .dataframe tbody tr th {\n",
       "        vertical-align: top;\n",
       "    }\n",
       "\n",
       "    .dataframe thead th {\n",
       "        text-align: right;\n",
       "    }\n",
       "</style>\n",
       "<table border=\"1\" class=\"dataframe\">\n",
       "  <thead>\n",
       "    <tr style=\"text-align: right;\">\n",
       "      <th></th>\n",
       "      <th>Title</th>\n",
       "      <th>Likes</th>\n",
       "      <th>Singer</th>\n",
       "      <th>Lyrics</th>\n",
       "    </tr>\n",
       "  </thead>\n",
       "  <tbody>\n",
       "    <tr>\n",
       "      <th>750</th>\n",
       "      <td>출근하지 뭐</td>\n",
       "      <td>1,160</td>\n",
       "      <td>허니츄러스</td>\n",
       "      <td>오늘도 난 무거운 몸 일으켜\\n뻑뻑한 두 눈을 비비고\\n\\n동그라미 부어오른 내 얼...</td>\n",
       "    </tr>\n",
       "    <tr>\n",
       "      <th>751</th>\n",
       "      <td>사랑해 이 말 밖엔</td>\n",
       "      <td>18,733</td>\n",
       "      <td>종현 (JONGHYUN)</td>\n",
       "      <td>그렇게 싫었니\\n웃는 날 보며 말할 만큼\\n너무 갑자기라 눈물도\\n놀라 흐르지 않나...</td>\n",
       "    </tr>\n",
       "    <tr>\n",
       "      <th>752</th>\n",
       "      <td>1 of 9</td>\n",
       "      <td>2,909</td>\n",
       "      <td>YOUNITE</td>\n",
       "      <td>It’s too easy me or not\\n할만하잖아\\n저 우주의 별보단\\n많지 ...</td>\n",
       "    </tr>\n",
       "    <tr>\n",
       "      <th>753</th>\n",
       "      <td>Colorful</td>\n",
       "      <td>2,782</td>\n",
       "      <td>tripleS (트리플에스)</td>\n",
       "      <td>어지러워 이 기분\\n아스라이\\n녹아 드는 너란 꿈\\n걸어가는 발 걸음\\n너를 향해\\...</td>\n",
       "    </tr>\n",
       "    <tr>\n",
       "      <th>754</th>\n",
       "      <td>운명</td>\n",
       "      <td>1,122</td>\n",
       "      <td>코요태</td>\n",
       "      <td>Yeah yeah just sit back and relax\\nCause it's ...</td>\n",
       "    </tr>\n",
       "    <tr>\n",
       "      <th>...</th>\n",
       "      <td>...</td>\n",
       "      <td>...</td>\n",
       "      <td>...</td>\n",
       "      <td>...</td>\n",
       "    </tr>\n",
       "    <tr>\n",
       "      <th>845</th>\n",
       "      <td>빗물 샤워</td>\n",
       "      <td>7,113</td>\n",
       "      <td>펜타곤</td>\n",
       "      <td>Now what can I say\\nWoo woo\\n날 버려둔 채\\nWoo woo\\...</td>\n",
       "    </tr>\n",
       "    <tr>\n",
       "      <th>846</th>\n",
       "      <td>간절히 바라면 이뤄질 거야 (Feat. 타이거JK)</td>\n",
       "      <td>9,780</td>\n",
       "      <td>아이 (I)</td>\n",
       "      <td>나를 향해 손짓하는\\n넌 이름 모를 환상 속 reality\\n잡힐 듯이 잡히지가 않...</td>\n",
       "    </tr>\n",
       "    <tr>\n",
       "      <th>847</th>\n",
       "      <td>Love My Way</td>\n",
       "      <td>235</td>\n",
       "      <td>크리샤 츄 (Kriesha Chu)</td>\n",
       "      <td>The sun is up it's a beautiful day\\nmy beginni...</td>\n",
       "    </tr>\n",
       "    <tr>\n",
       "      <th>848</th>\n",
       "      <td>도망가자 (HAPPINESS KR Ver.)</td>\n",
       "      <td>5,670</td>\n",
       "      <td>펜타곤</td>\n",
       "      <td>우리 행복할 수 있을까\\n아니 행복할 수 있을 거야\\n다른 건 필요치 않아 너와 나...</td>\n",
       "    </tr>\n",
       "    <tr>\n",
       "      <th>849</th>\n",
       "      <td>Flame</td>\n",
       "      <td>10,380</td>\n",
       "      <td>CRAVITY</td>\n",
       "      <td>끝없이 오른 열기 번지는 뜨거움\\n흐릿해지는 현실 선명한 이건 꿈\\n더욱 깊이 파고...</td>\n",
       "    </tr>\n",
       "  </tbody>\n",
       "</table>\n",
       "<p>100 rows × 4 columns</p>\n",
       "</div>"
      ],
      "text/plain": [
       "                            Title   Likes               Singer  \\\n",
       "750                        출근하지 뭐   1,160                허니츄러스   \n",
       "751                    사랑해 이 말 밖엔  18,733        종현 (JONGHYUN)   \n",
       "752                        1 of 9   2,909              YOUNITE   \n",
       "753                      Colorful   2,782      tripleS (트리플에스)   \n",
       "754                            운명   1,122                  코요태   \n",
       "..                            ...     ...                  ...   \n",
       "845                         빗물 샤워   7,113                  펜타곤   \n",
       "846  간절히 바라면 이뤄질 거야 (Feat. 타이거JK)   9,780               아이 (I)   \n",
       "847                   Love My Way     235  크리샤 츄 (Kriesha Chu)   \n",
       "848      도망가자 (HAPPINESS KR Ver.)   5,670                  펜타곤   \n",
       "849                         Flame  10,380              CRAVITY   \n",
       "\n",
       "                                                Lyrics  \n",
       "750  오늘도 난 무거운 몸 일으켜\\n뻑뻑한 두 눈을 비비고\\n\\n동그라미 부어오른 내 얼...  \n",
       "751  그렇게 싫었니\\n웃는 날 보며 말할 만큼\\n너무 갑자기라 눈물도\\n놀라 흐르지 않나...  \n",
       "752  It’s too easy me or not\\n할만하잖아\\n저 우주의 별보단\\n많지 ...  \n",
       "753  어지러워 이 기분\\n아스라이\\n녹아 드는 너란 꿈\\n걸어가는 발 걸음\\n너를 향해\\...  \n",
       "754  Yeah yeah just sit back and relax\\nCause it's ...  \n",
       "..                                                 ...  \n",
       "845  Now what can I say\\nWoo woo\\n날 버려둔 채\\nWoo woo\\...  \n",
       "846  나를 향해 손짓하는\\n넌 이름 모를 환상 속 reality\\n잡힐 듯이 잡히지가 않...  \n",
       "847  The sun is up it's a beautiful day\\nmy beginni...  \n",
       "848  우리 행복할 수 있을까\\n아니 행복할 수 있을 거야\\n다른 건 필요치 않아 너와 나...  \n",
       "849  끝없이 오른 열기 번지는 뜨거움\\n흐릿해지는 현실 선명한 이건 꿈\\n더욱 깊이 파고...  \n",
       "\n",
       "[100 rows x 4 columns]"
      ]
     },
     "execution_count": 23,
     "metadata": {},
     "output_type": "execute_result"
    }
   ],
   "source": [
    "data = {\"Title\" : title_list,\"Likes\":likes_list, \"Singer\":singer_list, \"Lyrics\":lyrics_list}\n",
    "df = pd.DataFrame(data)\n",
    "df.tail(100)"
   ]
  },
  {
   "cell_type": "code",
   "execution_count": 25,
   "metadata": {},
   "outputs": [
    {
     "data": {
      "text/plain": [
       "(850, 4)"
      ]
     },
     "execution_count": 25,
     "metadata": {},
     "output_type": "execute_result"
    }
   ],
   "source": [
    "df.shape"
   ]
  },
  {
   "cell_type": "code",
   "execution_count": 20,
   "metadata": {},
   "outputs": [],
   "source": [
    "# CSV 파일로 저장\n",
    "df.to_csv('songs(댄스 4001 ~ 4850).csv', index=False)"
   ]
  },
  {
   "cell_type": "code",
   "execution_count": null,
   "metadata": {},
   "outputs": [],
   "source": []
  }
 ],
 "metadata": {
  "kernelspec": {
   "display_name": "Python 3",
   "language": "python",
   "name": "python3"
  },
  "language_info": {
   "codemirror_mode": {
    "name": "ipython",
    "version": 3
   },
   "file_extension": ".py",
   "mimetype": "text/x-python",
   "name": "python",
   "nbconvert_exporter": "python",
   "pygments_lexer": "ipython3",
   "version": "3.11.8"
  }
 },
 "nbformat": 4,
 "nbformat_minor": 2
}
