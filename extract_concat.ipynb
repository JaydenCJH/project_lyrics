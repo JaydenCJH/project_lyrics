{
 "cells": [
  {
   "cell_type": "code",
   "execution_count": 5,
   "metadata": {},
   "outputs": [
    {
     "name": "stdout",
     "output_type": "stream",
     "text": [
      "<class 'pandas.core.frame.DataFrame'>\n",
      "Index: 3241 entries, 0 to 639\n",
      "Data columns (total 4 columns):\n",
      " #   Column  Non-Null Count  Dtype \n",
      "---  ------  --------------  ----- \n",
      " 0   Title   3241 non-null   object\n",
      " 1   Likes   3241 non-null   object\n",
      " 2   Singer  3241 non-null   object\n",
      " 3   Lyrics  3241 non-null   object\n",
      "dtypes: object(4)\n",
      "memory usage: 126.6+ KB\n"
     ]
    }
   ],
   "source": [
    "import pandas as pd\n",
    "\n",
    "df1 = pd.read_csv('songs(발라드 1 ~ 1166).csv')\n",
    "df2 = pd.read_csv('songs(발라드 1151 ~ 1785).csv')\n",
    "df3 = pd.read_csv('songs(발라드 1751 ~ 2550).csv')\n",
    "df4 = pd.read_csv('songs(발라드 2551 ~ 3190).csv')\n",
    "df_concat = pd.concat([df1, df2, df3, df4])\n",
    "df_concat.info()\n",
    "df_concat.to_csv('songs(발라드, 병합).csv', index = False)"
   ]
  }
 ],
 "metadata": {
  "kernelspec": {
   "display_name": "hg",
   "language": "python",
   "name": "python3"
  },
  "language_info": {
   "codemirror_mode": {
    "name": "ipython",
    "version": 3
   },
   "file_extension": ".py",
   "mimetype": "text/x-python",
   "name": "python",
   "nbconvert_exporter": "python",
   "pygments_lexer": "ipython3",
   "version": "3.10.12"
  }
 },
 "nbformat": 4,
 "nbformat_minor": 2
}
