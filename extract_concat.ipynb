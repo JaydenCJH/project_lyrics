{
 "cells": [
  {
   "cell_type": "code",
   "execution_count": 1,
   "metadata": {},
   "outputs": [
    {
     "name": "stdout",
     "output_type": "stream",
     "text": [
      "500\n",
      "499\n",
      "500\n",
      "500\n",
      "500\n",
      "499\n",
      "497\n",
      "497\n",
      "498\n",
      "500\n",
      "<class 'pandas.core.frame.DataFrame'>\n",
      "Index: 4990 entries, 0 to 499\n",
      "Data columns (total 4 columns):\n",
      " #   Column  Non-Null Count  Dtype \n",
      "---  ------  --------------  ----- \n",
      " 0   Title   4990 non-null   object\n",
      " 1   Likes   4990 non-null   object\n",
      " 2   Singer  4990 non-null   object\n",
      " 3   Lyrics  4990 non-null   object\n",
      "dtypes: object(4)\n",
      "memory usage: 194.9+ KB\n"
     ]
    }
   ],
   "source": [
    "import pandas as pd\n",
    "\n",
    "df1 = pd.read_csv('songs(트로트 1 ~ 500).csv')\n",
    "print(len(df1))\n",
    "df2 = pd.read_csv('songs(트로트 501 ~ 1000).csv')\n",
    "print(len(df2))\n",
    "df3 = pd.read_csv('songs(트로트 1001 ~ 1500).csv')\n",
    "print(len(df3))\n",
    "df4 = pd.read_csv('songs(트로트 1501 ~ 2000).csv')\n",
    "print(len(df4))\n",
    "df5 = pd.read_csv('songs(트로트 2001 ~ 2500).csv')\n",
    "print(len(df5))\n",
    "df6 = pd.read_csv('songs(트로트 2501 ~ 3000).csv')\n",
    "print(len(df6))\n",
    "df7 = pd.read_csv('songs(트로트 3001 ~ 3500).csv')\n",
    "print(len(df7))\n",
    "df8 = pd.read_csv('songs(트로트 3501 ~ 4000).csv')\n",
    "print(len(df8))\n",
    "df9 = pd.read_csv('songs(트로트 4001 ~ 4500).csv')\n",
    "print(len(df9))\n",
    "df10 = pd.read_csv('songs(트로트 4501 ~ 5000).csv')\n",
    "print(len(df10))\n",
    "\n",
    "df_concat = pd.concat([df1, df2, df3, df4, df5, df6, df7, df8, df9, df10])\n",
    "df_concat.info()\n",
    "df_concat.to_csv('songs(트로트, 병합).csv', index = False)"
   ]
  }
 ],
 "metadata": {
  "kernelspec": {
   "display_name": "hg",
   "language": "python",
   "name": "python3"
  },
  "language_info": {
   "codemirror_mode": {
    "name": "ipython",
    "version": 3
   },
   "file_extension": ".py",
   "mimetype": "text/x-python",
   "name": "python",
   "nbconvert_exporter": "python",
   "pygments_lexer": "ipython3",
   "version": "3.10.12"
  }
 },
 "nbformat": 4,
 "nbformat_minor": 2
}
