{
 "cells": [
  {
   "cell_type": "code",
   "execution_count": 1,
   "metadata": {},
   "outputs": [
    {
     "name": "stdout",
     "output_type": "stream",
     "text": [
      "<class 'pandas.core.frame.DataFrame'>\n",
      "Index: 5020 entries, 0 to 798\n",
      "Data columns (total 4 columns):\n",
      " #   Column  Non-Null Count  Dtype \n",
      "---  ------  --------------  ----- \n",
      " 0   Title   5020 non-null   object\n",
      " 1   Likes   5020 non-null   object\n",
      " 2   Singer  5020 non-null   object\n",
      " 3   Lyrics  5020 non-null   object\n",
      "dtypes: object(4)\n",
      "memory usage: 196.1+ KB\n"
     ]
    }
   ],
   "source": [
    "import pandas as pd\n",
    "\n",
    "df1 = pd.read_csv('songs(발라드 1 ~ 1166).csv')\n",
    "df2 = pd.read_csv('songs(발라드 1151 ~ 1785).csv')\n",
    "df3 = pd.read_csv('songs(발라드 1751 ~ 2550).csv')\n",
    "df4 = pd.read_csv('songs(발라드 2551 ~ 3190).csv')\n",
    "df5 = pd.read_csv('songs(발라드 3151 ~ 3446).csv')\n",
    "df6 = pd.read_csv('songs(발라드 3401 ~ 4191).csv')\n",
    "df7 = pd.read_csv('songs(발라드 4151 ~ 5000).csv')\n",
    "df_concat = pd.concat([df1, df2, df3, df4, df5, df6, df7])\n",
    "df_concat.info()\n",
    "df_concat.to_csv('songs(발라드, 병합).csv', index = False)"
   ]
  }
 ],
 "metadata": {
  "kernelspec": {
   "display_name": "hg",
   "language": "python",
   "name": "python3"
  },
  "language_info": {
   "codemirror_mode": {
    "name": "ipython",
    "version": 3
   },
   "file_extension": ".py",
   "mimetype": "text/x-python",
   "name": "python",
   "nbconvert_exporter": "python",
   "pygments_lexer": "ipython3",
   "version": "3.10.12"
  }
 },
 "nbformat": 4,
 "nbformat_minor": 2
}
