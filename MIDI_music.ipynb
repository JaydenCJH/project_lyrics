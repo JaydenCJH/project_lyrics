{
 "cells": [
  {
   "cell_type": "code",
   "execution_count": 20,
   "metadata": {},
   "outputs": [],
   "source": [
    "import collections\n",
    "import datetime\n",
    "import glob\n",
    "import numpy as np\n",
    "import pathlib\n",
    "import pandas as pd\n",
    "import pretty_midi\n",
    "import seaborn as sns\n",
    "import tensorflow as tf\n",
    "from IPython import display\n",
    "from matplotlib import pyplot as plt\n",
    "from typing import Dict, List, Optional, Sequence, Tuple\n",
    "import os"
   ]
  },
  {
   "cell_type": "code",
   "execution_count": 2,
   "metadata": {},
   "outputs": [],
   "source": [
    "import fluidsynth"
   ]
  },
  {
   "cell_type": "code",
   "execution_count": 3,
   "metadata": {},
   "outputs": [],
   "source": [
    "seed = 42\n",
    "tf.random.set_seed(seed)\n",
    "np.random.seed(seed)\n",
    "\n",
    "# Sampling rate for audio playback\n",
    "_SAMPLING_RATE = 16000"
   ]
  },
  {
   "cell_type": "code",
   "execution_count": 34,
   "metadata": {},
   "outputs": [
    {
     "name": "stdout",
     "output_type": "stream",
     "text": [
      "Number of files:  2898\n",
      "MIDI/pop/Romantics/GangnamStyle.mid\n"
     ]
    }
   ],
   "source": [
    "#import all the file names\n",
    "filenames = glob.glob(str(\"MIDI/pop/**/*.mid\"))\n",
    "# filenames = glob.glob(str(\"/home/jayden/projects/project_lyrics/MIDI/pop/**/*.mid\"))\n",
    "print('Number of files: ', len(filenames))\n",
    "sample_file = filenames[5]\n",
    "print(sample_file)\n",
    "pm = pretty_midi.PrettyMIDI(sample_file)"
   ]
  },
  {
   "cell_type": "code",
   "execution_count": 18,
   "metadata": {},
   "outputs": [
    {
     "name": "stdout",
     "output_type": "stream",
     "text": [
      "Number of instruments: 12\n",
      "Instrument name: Celesta\n",
      "All instruments: Celesta\n",
      "All instruments: Lead 2 (sawtooth)\n",
      "All instruments: Lead 1 (square)\n",
      "All instruments: Lead 1 (square)\n",
      "All instruments: Synth Brass 1\n",
      "All instruments: Applause\n",
      "All instruments: String Ensemble 1\n",
      "All instruments: Rock Organ\n",
      "All instruments: Melodic Tom\n",
      "All instruments: Reverse Cymbal\n",
      "All instruments: Lead 1 (square)\n",
      "All instruments: Distortion Guitar\n"
     ]
    }
   ],
   "source": [
    "#악기 종류 찾아내기\n",
    "print('Number of instruments:', len(pm.instruments))\n",
    "instrument = pm.instruments[0]\n",
    "instrument_name = pretty_midi.program_to_instrument_name(instrument.program)\n",
    "print('Instrument name:', instrument_name)\n",
    "\n",
    "for num in range(len(pm.instruments)):\n",
    "    print('All instruments:' , pretty_midi.program_to_instrument_name(pm.instruments[num].program))"
   ]
  },
  {
   "cell_type": "code",
   "execution_count": 35,
   "metadata": {},
   "outputs": [
    {
     "name": "stderr",
     "output_type": "stream",
     "text": [
      "/home/jayden/miniconda3/envs/aimusic/lib/python3.11/site-packages/pretty_midi/pretty_midi.py:100: RuntimeWarning: Tempo, Key or Time signature change events found on non-zero tracks.  This is not a valid type 0 or type 1 MIDI file.  Tempo, Key or Time Signature may be wrong.\n",
      "  warnings.warn(\n"
     ]
    }
   ],
   "source": [
    "def count_instruments(file_list):\n",
    "    instrument_counts = {}\n",
    "    files_to_delete = []  # List to store files with errors\n",
    "    \n",
    "    for file_name in file_list:\n",
    "        try:\n",
    "            pm = pretty_midi.PrettyMIDI(file_name)\n",
    "            for instrument in pm.instruments:\n",
    "                instrument_name = pretty_midi.program_to_instrument_name(instrument.program)\n",
    "                if instrument_name not in instrument_counts:\n",
    "                    instrument_counts[instrument_name] = 0\n",
    "                instrument_counts[instrument_name] += 1\n",
    "        except Exception as e:\n",
    "            print(f\"Error processing file {file_name}: {e}\")\n",
    "            # Add the file to the list of files to delete\n",
    "            files_to_delete.append(file_name)\n",
    "    \n",
    "    # Delete the files with errors\n",
    "    for file_to_delete in files_to_delete:\n",
    "        os.remove(file_to_delete)\n",
    "    \n",
    "    # Convert the dictionary to a DataFrame\n",
    "    df = pd.DataFrame.from_dict(instrument_counts, orient='index', columns=['Count'])\n",
    "    return df\n",
    "\n",
    "instrument_counts_df = count_instruments(filenames)\n",
    "print(instrument_counts_df.sort_values(by=['Count'], ascending=False).head(20).index.values)"
   ]
  },
  {
   "cell_type": "code",
   "execution_count": 33,
   "metadata": {},
   "outputs": [
    {
     "data": {
      "text/plain": [
       "array(['Acoustic Grand Piano', 'Acoustic Guitar (steel)',\n",
       "       'String Ensemble 1', 'Electric Bass (finger)', 'Distortion Guitar',\n",
       "       'Electric Guitar (clean)', 'Overdriven Guitar',\n",
       "       'String Ensemble 2', 'Acoustic Guitar (nylon)',\n",
       "       'Bright Acoustic Piano', 'Choir Aahs', 'Acoustic Bass',\n",
       "       'Electric Guitar (jazz)', 'Fretless Bass',\n",
       "       'Electric Guitar (muted)', 'Synth Strings 1', 'Voice Oohs',\n",
       "       'Electric Piano 1', 'Flute', 'Alto Sax'], dtype=object)"
      ]
     },
     "execution_count": 33,
     "metadata": {},
     "output_type": "execute_result"
    }
   ],
   "source": []
  },
  {
   "cell_type": "code",
   "execution_count": null,
   "metadata": {},
   "outputs": [],
   "source": []
  }
 ],
 "metadata": {
  "kernelspec": {
   "display_name": "aimusic",
   "language": "python",
   "name": "python3"
  },
  "language_info": {
   "codemirror_mode": {
    "name": "ipython",
    "version": 3
   },
   "file_extension": ".py",
   "mimetype": "text/x-python",
   "name": "python",
   "nbconvert_exporter": "python",
   "pygments_lexer": "ipython3",
   "version": "3.11.8"
  }
 },
 "nbformat": 4,
 "nbformat_minor": 2
}
