{
 "cells": [
  {
   "cell_type": "code",
   "execution_count": 2,
   "metadata": {},
   "outputs": [],
   "source": [
    "import glob, os, re\n",
    "import numpy as np\n",
    "import pandas as pd\n",
    "\n",
    "import tensorflow as tf\n",
    "\n",
    "from sklearn.model_selection import train_test_split"
   ]
  },
  {
   "cell_type": "code",
   "execution_count": 3,
   "metadata": {},
   "outputs": [
    {
     "name": "stdout",
     "output_type": "stream",
     "text": [
      "433820\n"
     ]
    }
   ],
   "source": [
    "txt_path = 'indi_text.txt'\n",
    "raw_corpus = []\n",
    "\n",
    "with open(txt_path, 'r', encoding = 'utf-8') as f:\n",
    "    raw = f.read().splitlines()\n",
    "    raw_corpus.extend(raw)\n",
    "print(len(raw_corpus))"
   ]
  },
  {
   "cell_type": "code",
   "execution_count": 4,
   "metadata": {},
   "outputs": [
    {
     "data": {
      "text/plain": [
       "['돌아서는 너를 보며', '', '난 아무 말도 할 수 없었고', '', '슬퍼하기엔 짧았던']"
      ]
     },
     "execution_count": 4,
     "metadata": {},
     "output_type": "execute_result"
    }
   ],
   "source": [
    "raw_corpus[:5]"
   ]
  },
  {
   "cell_type": "code",
   "execution_count": 5,
   "metadata": {},
   "outputs": [
    {
     "name": "stdout",
     "output_type": "stream",
     "text": [
      "0\n"
     ]
    }
   ],
   "source": [
    "print(len(raw_corpus[1]))"
   ]
  },
  {
   "cell_type": "code",
   "execution_count": 6,
   "metadata": {},
   "outputs": [
    {
     "name": "stdout",
     "output_type": "stream",
     "text": [
      "186\n"
     ]
    }
   ],
   "source": [
    "print(len(max(raw_corpus, key = len)))"
   ]
  },
  {
   "cell_type": "code",
   "execution_count": 7,
   "metadata": {},
   "outputs": [
    {
     "name": "stdout",
     "output_type": "stream",
     "text": [
      "433820\n",
      "['돌아서는 너를 보며', '', '난 아무 말도 할 수 없었고', '', '슬퍼하기엔 짧았던']\n"
     ]
    }
   ],
   "source": [
    "#raw_corpus = ' '.join(raw_corpus).split()\n",
    "#raw_corpus = list(filter(None, raw_corpus))\n",
    "print(len(raw_corpus))\n",
    "print(raw_corpus[:5])"
   ]
  },
  {
   "cell_type": "code",
   "execution_count": 23,
   "metadata": {},
   "outputs": [
    {
     "name": "stdout",
     "output_type": "stream",
     "text": [
      "['나는 그냥', '너만', '잠이 안 와 미쳤나봐', '복잡하고 답답하니까', '그냥 널 생각하고 있어']\n"
     ]
    }
   ],
   "source": [
    "print(raw_corpus[-5:])"
   ]
  },
  {
   "cell_type": "code",
   "execution_count": 8,
   "metadata": {},
   "outputs": [],
   "source": [
    "def preprocess_sentence(sentence):\n",
    "    sentence = re.sub(r\"([?.!,¿])\", r\" \\1 \", sentence)\n",
    "    sentence = re.sub(r'[\" \"]+', \" \", sentence)\n",
    "    sentence = re.sub(r\"[^a-zA-Z가-힣?.!,¿]+\", \" \", sentence)\n",
    "    sentence = sentence.strip()\n",
    "    sentence = re.sub(r\"\\(.\\)\", \" \", sentence) # 7\n",
    "    sentence = '<start> ' + sentence + ' <end>'\n",
    "    return sentence"
   ]
  },
  {
   "cell_type": "code",
   "execution_count": 9,
   "metadata": {},
   "outputs": [
    {
     "name": "stdout",
     "output_type": "stream",
     "text": [
      "<start> This is sample sentences sentence . 그리고 <end>\n"
     ]
    }
   ],
   "source": [
    "print(preprocess_sentence(\"This @_is ;;;sample        (sentences) sentence . 그리고 \"))"
   ]
  },
  {
   "cell_type": "code",
   "execution_count": 10,
   "metadata": {},
   "outputs": [
    {
     "name": "stdout",
     "output_type": "stream",
     "text": [
      "210237\n",
      "['<start> 돌아서는 너를 보며 <end>', '<start> 난 아무 말도 할 수 없었고 <end>', '<start> 슬퍼하기엔 짧았던 <end>', '<start> 나의 해는 저물어 갔네 <end>', '<start> 지나치는 모진 기억이 <end>', '<start> 바람 따라 흩어질 때면 <end>', '<start> 아무 일도 없듯이 보내주려 해 <end>', '<start> 아픈 맘이 남지 않도록 <end>', '<start> 안녕 멀어지는 나의 하루야 <end>', '<start> 빛나지 못한 나의 별들아 <end>']\n"
     ]
    }
   ],
   "source": [
    "corpus = []\n",
    "for sentence in raw_corpus:\n",
    "    if len(sentence) == 0:\n",
    "        continue\n",
    "    if sentence[-1] == ':':\n",
    "        continue\n",
    "    if len(sentence)>150:\n",
    "        continue\n",
    "    \n",
    "    preprocessed_sentence = preprocess_sentence(sentence)\n",
    "    corpus.append(preprocessed_sentence)\n",
    "    \n",
    "print(len(corpus))\n",
    "print(corpus[:10])"
   ]
  },
  {
   "cell_type": "code",
   "execution_count": 11,
   "metadata": {},
   "outputs": [],
   "source": [
    "def tokenize(corpus):\n",
    "    tokenizer = tf.keras.preprocessing.text.Tokenizer(num_words = 12000, filters = ' ', oov_token = '<unk>')\n",
    "    tokenizer.fit_on_texts(corpus)\n",
    "    tensor = tokenizer.texts_to_sequences(corpus)\n",
    "    tensor = tf.keras.preprocessing.sequence.pad_sequences(tensor, padding = 'post')\n",
    "    print('토크나이저: ', tokenizer, '\\n', tensor)\n",
    "    \n",
    "    return tensor, tokenizer"
   ]
  },
  {
   "cell_type": "code",
   "execution_count": 12,
   "metadata": {},
   "outputs": [
    {
     "name": "stdout",
     "output_type": "stream",
     "text": [
      "토크나이저:  <keras.src.legacy.preprocessing.text.Tokenizer object at 0x0000022764627C50> \n",
      " [[    2  4361    22 ...     0     0     0]\n",
      " [    2     7   164 ...     0     0     0]\n",
      " [    2     1  5444 ...     0     0     0]\n",
      " ...\n",
      " [    2   472    74 ...     0     0     0]\n",
      " [    2 10161     1 ...     0     0     0]\n",
      " [    2    80     8 ...     0     0     0]]\n"
     ]
    }
   ],
   "source": [
    "tensor, tokenizer = tokenize(corpus)"
   ]
  },
  {
   "cell_type": "code",
   "execution_count": 13,
   "metadata": {},
   "outputs": [
    {
     "data": {
      "text/plain": [
       "(210237, 27)"
      ]
     },
     "execution_count": 13,
     "metadata": {},
     "output_type": "execute_result"
    }
   ],
   "source": [
    "tensor.shape"
   ]
  },
  {
   "cell_type": "code",
   "execution_count": 14,
   "metadata": {},
   "outputs": [
    {
     "data": {
      "text/plain": [
       "array([   2, 4361,   22,  334,    3,    0,    0,    0,    0,    0,    0,\n",
       "          0,    0,    0,    0,    0,    0,    0,    0,    0,    0,    0,\n",
       "          0,    0,    0,    0,    0])"
      ]
     },
     "execution_count": 14,
     "metadata": {},
     "output_type": "execute_result"
    }
   ],
   "source": [
    "tensor[0]"
   ]
  },
  {
   "cell_type": "code",
   "execution_count": 15,
   "metadata": {},
   "outputs": [
    {
     "name": "stdout",
     "output_type": "stream",
     "text": [
      "1 : <unk>\n",
      "2 : <start>\n",
      "3 : <end>\n",
      "4 : i\n",
      "5 : you\n",
      "6 : 내\n",
      "7 : 난\n",
      "8 : 널\n",
      "9 : 내가\n",
      "10 : 날\n",
      "11 : 수\n",
      "12 : 그\n",
      "13 : me\n",
      "14 : the\n",
      "15 : 더\n",
      "16 : 이\n",
      "17 : 너의\n",
      "18 : 다\n",
      "19 : 나는\n",
      "20 : my\n"
     ]
    }
   ],
   "source": [
    "for idx in tokenizer.index_word:\n",
    "    print(idx, ':', tokenizer.index_word[idx])\n",
    "    if idx>=20: break"
   ]
  },
  {
   "cell_type": "code",
   "execution_count": 16,
   "metadata": {},
   "outputs": [
    {
     "name": "stdout",
     "output_type": "stream",
     "text": [
      "텐서 길이:  (210237, 27)\n",
      "소스문장 길이:  26\n",
      "타겟문장 길이:  26\n"
     ]
    }
   ],
   "source": [
    "src_input = tensor[:, :-1]\n",
    "tgt_input = tensor[:, 1:]\n",
    "print('텐서 길이: ', tensor.shape)\n",
    "print('소스문장 길이: ', len(src_input[0]))\n",
    "print('타겟문장 길이: ', len(tgt_input[0]))"
   ]
  },
  {
   "cell_type": "code",
   "execution_count": 17,
   "metadata": {},
   "outputs": [
    {
     "name": "stdout",
     "output_type": "stream",
     "text": [
      "Source Train 길이:  (168189, 26)\n",
      "Target Train 길이:  (168189, 26)\n",
      "Source Test 길이:  (42048, 26)\n",
      "Target Test 길이:  (42048, 26)\n"
     ]
    }
   ],
   "source": [
    "enc_train, enc_val, dec_train, dec_val = train_test_split(src_input, tgt_input, test_size = 0.2, random_state = 1234)\n",
    "print('Source Train 길이: ', enc_train.shape)\n",
    "print('Target Train 길이: ', dec_train.shape)\n",
    "print('Source Test 길이: ', enc_val.shape)\n",
    "print('Target Test 길이: ', dec_val.shape)"
   ]
  },
  {
   "cell_type": "code",
   "execution_count": 18,
   "metadata": {},
   "outputs": [
    {
     "name": "stdout",
     "output_type": "stream",
     "text": [
      "<_BatchDataset element_spec=(TensorSpec(shape=(256, 26), dtype=tf.int32, name=None), TensorSpec(shape=(256, 26), dtype=tf.int32, name=None))>\n",
      "<_BatchDataset element_spec=(TensorSpec(shape=(256, 26), dtype=tf.int32, name=None), TensorSpec(shape=(256, 26), dtype=tf.int32, name=None))>\n"
     ]
    }
   ],
   "source": [
    "BUFFER_SIZE = len(src_input)\n",
    "BATCH_SIZE = 256\n",
    "steps_per_epochs = len(src_input) // BATCH_SIZE\n",
    "VOCAB_SIZE = tokenizer.num_words + 1\n",
    "\n",
    "dataset_train = tf.data.Dataset.from_tensor_slices((enc_train, dec_train))\n",
    "dataset_train = dataset_train.shuffle(BUFFER_SIZE)\n",
    "dataset_train = dataset_train.batch(BATCH_SIZE, drop_remainder = True)\n",
    "\n",
    "dataset_val = tf.data.Dataset.from_tensor_slices((enc_val, dec_val))\n",
    "dataset_val = dataset_val.shuffle(BUFFER_SIZE)\n",
    "dataset_val = dataset_val.batch(BATCH_SIZE, drop_remainder = True)\n",
    "\n",
    "print(dataset_train)\n",
    "print(dataset_val)"
   ]
  },
  {
   "cell_type": "code",
   "execution_count": 19,
   "metadata": {},
   "outputs": [],
   "source": [
    "class TextGenerator(tf.keras.Model):\n",
    "    def __init__(self, vocab_size, embedding_size, hidden_size):\n",
    "        super().__init__()\n",
    "        \n",
    "        self.embedding = tf.keras.layers.Embedding(vocab_size, embedding_size)\n",
    "        self.rnn_1 = tf.keras.layers.LSTM(hidden_size, return_sequences = True)\n",
    "        self.rnn_2 = tf.keras.layers.LSTM(hidden_size, return_sequences = True)\n",
    "        self.linear = tf.keras.layers.Dense(vocab_size)\n",
    "        \n",
    "    def call(self, x):\n",
    "        out = self.embedding(x)\n",
    "        out = self.rnn_1(out)\n",
    "        out = self.rnn_2(out)\n",
    "        out = self.linear(out)\n",
    "        \n",
    "        return out"
   ]
  },
  {
   "cell_type": "code",
   "execution_count": 20,
   "metadata": {},
   "outputs": [
    {
     "data": {
      "text/plain": [
       "<TextGenerator name=text_generator, built=False>"
      ]
     },
     "execution_count": 20,
     "metadata": {},
     "output_type": "execute_result"
    }
   ],
   "source": [
    "embedding_size = 256\n",
    "hidden_size = 1024\n",
    "model = TextGenerator(tokenizer.num_words + 1, embedding_size, hidden_size)\n",
    "model"
   ]
  },
  {
   "cell_type": "code",
   "execution_count": 21,
   "metadata": {},
   "outputs": [
    {
     "data": {
      "text/plain": [
       "<tf.Tensor: shape=(256, 26, 12001), dtype=float32, numpy=\n",
       "array([[[-1.66465630e-04, -1.23079459e-04, -2.28258883e-04, ...,\n",
       "         -2.78883090e-04,  2.89886928e-04, -2.11112929e-04],\n",
       "        [-2.85402202e-04, -2.06569792e-04, -3.19867453e-04, ...,\n",
       "         -3.73350194e-04,  2.56283092e-04, -4.33517882e-04],\n",
       "        [-6.09326584e-04, -1.68034516e-04,  5.89593255e-05, ...,\n",
       "         -4.34003829e-04,  1.72316068e-04, -6.30301307e-04],\n",
       "        ...,\n",
       "        [ 2.68865842e-05,  1.69434398e-03, -5.44381677e-04, ...,\n",
       "          8.87255999e-04, -3.14755645e-03, -2.68209632e-03],\n",
       "        [ 7.81719573e-05,  1.71291549e-03, -5.74341044e-04, ...,\n",
       "          8.93402379e-04, -3.18085612e-03, -2.79565714e-03],\n",
       "        [ 1.26064289e-04,  1.72861898e-03, -5.96068450e-04, ...,\n",
       "          8.94417637e-04, -3.20531265e-03, -2.89201364e-03]],\n",
       "\n",
       "       [[-1.66465630e-04, -1.23079459e-04, -2.28258883e-04, ...,\n",
       "         -2.78883090e-04,  2.89886928e-04, -2.11112929e-04],\n",
       "        [-2.19884212e-04, -1.03789280e-04, -2.64951173e-04, ...,\n",
       "         -6.07978611e-04,  5.27236785e-04, -4.08792053e-04],\n",
       "        [-7.98765468e-05, -1.16444309e-04, -5.18947665e-04, ...,\n",
       "         -7.27450300e-04,  4.13182715e-04, -5.25459240e-04],\n",
       "        ...,\n",
       "        [ 1.74084911e-04,  1.79593312e-03, -5.51518169e-04, ...,\n",
       "          8.15070234e-04, -3.21964594e-03, -3.01958760e-03],\n",
       "        [ 2.15691747e-04,  1.80767337e-03, -5.62666450e-04, ...,\n",
       "          8.21773545e-04, -3.22803226e-03, -3.08132754e-03],\n",
       "        [ 2.52956757e-04,  1.81770814e-03, -5.71091427e-04, ...,\n",
       "          8.25671479e-04, -3.23383696e-03, -3.13177984e-03]],\n",
       "\n",
       "       [[-1.66465630e-04, -1.23079459e-04, -2.28258883e-04, ...,\n",
       "         -2.78883090e-04,  2.89886928e-04, -2.11112929e-04],\n",
       "        [-5.12536208e-04, -2.16581524e-04, -1.82762655e-04, ...,\n",
       "         -5.75816317e-04,  4.39637050e-04, -5.46504045e-04],\n",
       "        [-4.61742980e-04, -1.79198425e-04, -2.48845317e-04, ...,\n",
       "         -7.37479830e-04,  5.55208593e-04, -6.51506823e-04],\n",
       "        ...,\n",
       "        [ 2.35638116e-04,  1.81742967e-03, -6.44050655e-04, ...,\n",
       "          8.16951389e-04, -3.15458188e-03, -3.09709902e-03],\n",
       "        [ 2.70980643e-04,  1.82577141e-03, -6.37969701e-04, ...,\n",
       "          8.23878334e-04, -3.17144231e-03, -3.14234546e-03],\n",
       "        [ 3.02483328e-04,  1.83326239e-03, -6.31912495e-04, ...,\n",
       "          8.28207005e-04, -3.18510458e-03, -3.17933317e-03]],\n",
       "\n",
       "       ...,\n",
       "\n",
       "       [[-1.66465630e-04, -1.23079459e-04, -2.28258883e-04, ...,\n",
       "         -2.78883090e-04,  2.89886928e-04, -2.11112929e-04],\n",
       "        [-3.21273837e-04, -6.13531156e-05, -2.14702653e-04, ...,\n",
       "         -3.39042919e-04,  4.12822235e-04, -3.81448102e-04],\n",
       "        [-3.78673896e-04,  1.10422639e-04, -2.92782381e-04, ...,\n",
       "         -5.06495184e-04,  4.50530351e-04, -2.70819612e-04],\n",
       "        ...,\n",
       "        [ 2.88593583e-05,  1.65188266e-03, -7.86854187e-04, ...,\n",
       "          8.45859526e-04, -3.23130051e-03, -2.96191289e-03],\n",
       "        [ 9.14188568e-05,  1.67923514e-03, -7.62313313e-04, ...,\n",
       "          8.58645071e-04, -3.24764149e-03, -3.03275278e-03],\n",
       "        [ 1.47394137e-04,  1.70368399e-03, -7.39954587e-04, ...,\n",
       "          8.65961774e-04, -3.25854076e-03, -3.09164030e-03]],\n",
       "\n",
       "       [[-1.66465630e-04, -1.23079459e-04, -2.28258883e-04, ...,\n",
       "         -2.78883090e-04,  2.89886928e-04, -2.11112929e-04],\n",
       "        [-2.21794311e-04, -1.12948655e-04,  1.95141183e-08, ...,\n",
       "         -5.68982156e-04,  5.18638059e-04, -3.63857369e-04],\n",
       "        [-2.62072688e-04, -2.39120185e-04,  2.29179321e-04, ...,\n",
       "         -7.33667461e-04,  2.65926472e-04, -4.85330296e-04],\n",
       "        ...,\n",
       "        [ 1.05024083e-04,  1.78550999e-03, -5.93562494e-04, ...,\n",
       "          7.74394488e-04, -3.19828233e-03, -3.11281998e-03],\n",
       "        [ 1.59056857e-04,  1.79902068e-03, -5.98878250e-04, ...,\n",
       "          7.90663296e-04, -3.21404822e-03, -3.16072511e-03],\n",
       "        [ 2.07019271e-04,  1.81062892e-03, -6.02220767e-04, ...,\n",
       "          8.02290393e-04, -3.22543876e-03, -3.19910538e-03]],\n",
       "\n",
       "       [[-1.66465630e-04, -1.23079459e-04, -2.28258883e-04, ...,\n",
       "         -2.78883090e-04,  2.89886928e-04, -2.11112929e-04],\n",
       "        [-4.19571239e-04, -7.50911277e-05, -3.26032576e-04, ...,\n",
       "         -5.66332601e-04,  6.08850154e-04, -1.11944690e-04],\n",
       "        [-4.76022600e-04, -5.96730388e-07, -2.84114969e-04, ...,\n",
       "         -4.55994392e-04,  7.19671254e-04, -2.64962029e-04],\n",
       "        ...,\n",
       "        [ 1.04677863e-04,  1.80885103e-03, -6.73809496e-04, ...,\n",
       "          8.40957393e-04, -3.25615332e-03, -3.01489537e-03],\n",
       "        [ 1.53726432e-04,  1.81596819e-03, -6.66760607e-04, ...,\n",
       "          8.48004594e-04, -3.26230843e-03, -3.07495845e-03],\n",
       "        [ 1.97957503e-04,  1.82274659e-03, -6.59134588e-04, ...,\n",
       "          8.51930468e-04, -3.26565700e-03, -3.12421517e-03]]],\n",
       "      dtype=float32)>"
      ]
     },
     "execution_count": 21,
     "metadata": {},
     "output_type": "execute_result"
    }
   ],
   "source": [
    "for src_sample, tgt_sample in dataset_train.take(1): break\n",
    "model(src_sample)"
   ]
  },
  {
   "cell_type": "code",
   "execution_count": 22,
   "metadata": {},
   "outputs": [
    {
     "data": {
      "text/html": [
       "<pre style=\"white-space:pre;overflow-x:auto;line-height:normal;font-family:Menlo,'DejaVu Sans Mono',consolas,'Courier New',monospace\"><span style=\"font-weight: bold\">Model: \"text_generator\"</span>\n",
       "</pre>\n"
      ],
      "text/plain": [
       "\u001b[1mModel: \"text_generator\"\u001b[0m\n"
      ]
     },
     "metadata": {},
     "output_type": "display_data"
    },
    {
     "data": {
      "text/html": [
       "<pre style=\"white-space:pre;overflow-x:auto;line-height:normal;font-family:Menlo,'DejaVu Sans Mono',consolas,'Courier New',monospace\">┏━━━━━━━━━━━━━━━━━━━━━━━━━━━━━━━━━┳━━━━━━━━━━━━━━━━━━━━━━━━┳━━━━━━━━━━━━━━━┓\n",
       "┃<span style=\"font-weight: bold\"> Layer (type)                    </span>┃<span style=\"font-weight: bold\"> Output Shape           </span>┃<span style=\"font-weight: bold\">       Param # </span>┃\n",
       "┡━━━━━━━━━━━━━━━━━━━━━━━━━━━━━━━━━╇━━━━━━━━━━━━━━━━━━━━━━━━╇━━━━━━━━━━━━━━━┩\n",
       "│ embedding (<span style=\"color: #0087ff; text-decoration-color: #0087ff\">Embedding</span>)           │ ?                      │     <span style=\"color: #00af00; text-decoration-color: #00af00\">3,072,256</span> │\n",
       "├─────────────────────────────────┼────────────────────────┼───────────────┤\n",
       "│ lstm (<span style=\"color: #0087ff; text-decoration-color: #0087ff\">LSTM</span>)                     │ ?                      │     <span style=\"color: #00af00; text-decoration-color: #00af00\">5,246,976</span> │\n",
       "├─────────────────────────────────┼────────────────────────┼───────────────┤\n",
       "│ lstm_1 (<span style=\"color: #0087ff; text-decoration-color: #0087ff\">LSTM</span>)                   │ ?                      │     <span style=\"color: #00af00; text-decoration-color: #00af00\">8,392,704</span> │\n",
       "├─────────────────────────────────┼────────────────────────┼───────────────┤\n",
       "│ dense (<span style=\"color: #0087ff; text-decoration-color: #0087ff\">Dense</span>)                   │ ?                      │    <span style=\"color: #00af00; text-decoration-color: #00af00\">12,301,025</span> │\n",
       "└─────────────────────────────────┴────────────────────────┴───────────────┘\n",
       "</pre>\n"
      ],
      "text/plain": [
       "┏━━━━━━━━━━━━━━━━━━━━━━━━━━━━━━━━━┳━━━━━━━━━━━━━━━━━━━━━━━━┳━━━━━━━━━━━━━━━┓\n",
       "┃\u001b[1m \u001b[0m\u001b[1mLayer (type)                   \u001b[0m\u001b[1m \u001b[0m┃\u001b[1m \u001b[0m\u001b[1mOutput Shape          \u001b[0m\u001b[1m \u001b[0m┃\u001b[1m \u001b[0m\u001b[1m      Param #\u001b[0m\u001b[1m \u001b[0m┃\n",
       "┡━━━━━━━━━━━━━━━━━━━━━━━━━━━━━━━━━╇━━━━━━━━━━━━━━━━━━━━━━━━╇━━━━━━━━━━━━━━━┩\n",
       "│ embedding (\u001b[38;5;33mEmbedding\u001b[0m)           │ ?                      │     \u001b[38;5;34m3,072,256\u001b[0m │\n",
       "├─────────────────────────────────┼────────────────────────┼───────────────┤\n",
       "│ lstm (\u001b[38;5;33mLSTM\u001b[0m)                     │ ?                      │     \u001b[38;5;34m5,246,976\u001b[0m │\n",
       "├─────────────────────────────────┼────────────────────────┼───────────────┤\n",
       "│ lstm_1 (\u001b[38;5;33mLSTM\u001b[0m)                   │ ?                      │     \u001b[38;5;34m8,392,704\u001b[0m │\n",
       "├─────────────────────────────────┼────────────────────────┼───────────────┤\n",
       "│ dense (\u001b[38;5;33mDense\u001b[0m)                   │ ?                      │    \u001b[38;5;34m12,301,025\u001b[0m │\n",
       "└─────────────────────────────────┴────────────────────────┴───────────────┘\n"
      ]
     },
     "metadata": {},
     "output_type": "display_data"
    },
    {
     "data": {
      "text/html": [
       "<pre style=\"white-space:pre;overflow-x:auto;line-height:normal;font-family:Menlo,'DejaVu Sans Mono',consolas,'Courier New',monospace\"><span style=\"font-weight: bold\"> Total params: </span><span style=\"color: #00af00; text-decoration-color: #00af00\">29,012,961</span> (110.68 MB)\n",
       "</pre>\n"
      ],
      "text/plain": [
       "\u001b[1m Total params: \u001b[0m\u001b[38;5;34m29,012,961\u001b[0m (110.68 MB)\n"
      ]
     },
     "metadata": {},
     "output_type": "display_data"
    },
    {
     "data": {
      "text/html": [
       "<pre style=\"white-space:pre;overflow-x:auto;line-height:normal;font-family:Menlo,'DejaVu Sans Mono',consolas,'Courier New',monospace\"><span style=\"font-weight: bold\"> Trainable params: </span><span style=\"color: #00af00; text-decoration-color: #00af00\">29,012,961</span> (110.68 MB)\n",
       "</pre>\n"
      ],
      "text/plain": [
       "\u001b[1m Trainable params: \u001b[0m\u001b[38;5;34m29,012,961\u001b[0m (110.68 MB)\n"
      ]
     },
     "metadata": {},
     "output_type": "display_data"
    },
    {
     "data": {
      "text/html": [
       "<pre style=\"white-space:pre;overflow-x:auto;line-height:normal;font-family:Menlo,'DejaVu Sans Mono',consolas,'Courier New',monospace\"><span style=\"font-weight: bold\"> Non-trainable params: </span><span style=\"color: #00af00; text-decoration-color: #00af00\">0</span> (0.00 B)\n",
       "</pre>\n"
      ],
      "text/plain": [
       "\u001b[1m Non-trainable params: \u001b[0m\u001b[38;5;34m0\u001b[0m (0.00 B)\n"
      ]
     },
     "metadata": {},
     "output_type": "display_data"
    }
   ],
   "source": [
    "model.summary()"
   ]
  },
  {
   "cell_type": "code",
   "execution_count": 23,
   "metadata": {},
   "outputs": [],
   "source": [
    "optimizer = tf.keras.optimizers.Adam()\n",
    "loss = tf.keras.losses.SparseCategoricalCrossentropy(from_logits = True, reduction = 'none')"
   ]
  },
  {
   "cell_type": "code",
   "execution_count": 24,
   "metadata": {},
   "outputs": [
    {
     "name": "stdout",
     "output_type": "stream",
     "text": [
      "Epoch 1/10\n"
     ]
    },
    {
     "name": "stdout",
     "output_type": "stream",
     "text": [
      "\u001b[1m  1/656\u001b[0m \u001b[37m━━━━━━━━━━━━━━━━━━━━\u001b[0m \u001b[1m26:23:40\u001b[0m 145s/step - loss: 9.3930"
     ]
    }
   ],
   "source": [
    "model.compile(loss = loss, optimizer = optimizer)\n",
    "model.fit(dataset_train, epochs = 10)"
   ]
  },
  {
   "cell_type": "code",
   "execution_count": null,
   "metadata": {},
   "outputs": [],
   "source": []
  }
 ],
 "metadata": {
  "kernelspec": {
   "display_name": "project_lyrics",
   "language": "python",
   "name": "python3"
  },
  "language_info": {
   "codemirror_mode": {
    "name": "ipython",
    "version": 3
   },
   "file_extension": ".py",
   "mimetype": "text/x-python",
   "name": "python",
   "nbconvert_exporter": "python",
   "pygments_lexer": "ipython3",
   "version": "3.11.8"
  }
 },
 "nbformat": 4,
 "nbformat_minor": 2
}
