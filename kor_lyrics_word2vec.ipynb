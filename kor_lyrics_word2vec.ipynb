{
 "cells": [
  {
   "cell_type": "code",
   "execution_count": 7,
   "metadata": {},
   "outputs": [],
   "source": [
    "import pickle\n",
    "import pandas as pd\n",
    "\n",
    "import matplotlib.pyplot as plt\n",
    "import seaborn as sns\n",
    "\n",
    "from os import path\n",
    "\n",
    "import konlpy\n",
    "from konlpy.tag import Okt\n",
    "\n",
    "import gensim\n",
    "from gensim import corpora, models\n",
    "from gensim.models import Phrases\n",
    "from gensim.models import LdaMulticore\n",
    "from gensim.models import Word2Vec\n",
    "from gensim.models.word2vec import LineSentence\n",
    "from gensim.corpora import Dictionary, MmCorpus\n",
    "\n",
    "import pyLDAvis\n",
    "import pyLDAvis.gensim\n",
    "\n",
    "import sklearn\n",
    "from sklearn.feature_extraction.text import CountVectorizer\n",
    "from sklearn.manifold import TSNE\n",
    "\n",
    "from bokeh.plotting import figure, show, output_notebook\n",
    "from bokeh.models import HoverTool, ColumnDataSource"
   ]
  },
  {
   "cell_type": "code",
   "execution_count": 9,
   "metadata": {},
   "outputs": [
    {
     "name": "stdout",
     "output_type": "stream",
     "text": [
      "5000\n"
     ]
    },
    {
     "data": {
      "text/html": [
       "<div>\n",
       "<style scoped>\n",
       "    .dataframe tbody tr th:only-of-type {\n",
       "        vertical-align: middle;\n",
       "    }\n",
       "\n",
       "    .dataframe tbody tr th {\n",
       "        vertical-align: top;\n",
       "    }\n",
       "\n",
       "    .dataframe thead th {\n",
       "        text-align: right;\n",
       "    }\n",
       "</style>\n",
       "<table border=\"1\" class=\"dataframe\">\n",
       "  <thead>\n",
       "    <tr style=\"text-align: right;\">\n",
       "      <th></th>\n",
       "      <th>Title</th>\n",
       "      <th>Likes</th>\n",
       "      <th>Singer</th>\n",
       "      <th>Lyrics</th>\n",
       "    </tr>\n",
       "  </thead>\n",
       "  <tbody>\n",
       "    <tr>\n",
       "      <th>0</th>\n",
       "      <td>인사</td>\n",
       "      <td>105,245</td>\n",
       "      <td>범진</td>\n",
       "      <td>돌아서는 너를 보며\\r\\n난 아무 말도 할 수 없었고\\r\\n슬퍼하기엔 짧았던\\r\\n...</td>\n",
       "    </tr>\n",
       "    <tr>\n",
       "      <th>1</th>\n",
       "      <td>주저하는 연인들을 위해</td>\n",
       "      <td>415,001</td>\n",
       "      <td>잔나비</td>\n",
       "      <td>나는 읽기 쉬운 마음이야\\r\\n당신도 스윽 훑고 가셔요\\r\\n달랠 길 없는 외로운 ...</td>\n",
       "    </tr>\n",
       "    <tr>\n",
       "      <th>2</th>\n",
       "      <td>사랑할 수밖에</td>\n",
       "      <td>35,768</td>\n",
       "      <td>볼빨간사춘기</td>\n",
       "      <td>간지러웠어 널 보는 내 손이\\r\\n다 주고 싶었어 내 안에 남은 사랑까지\\r\\n지켜...</td>\n",
       "    </tr>\n",
       "    <tr>\n",
       "      <th>3</th>\n",
       "      <td>그대가 내 안에 박혔다(그내박)</td>\n",
       "      <td>38,463</td>\n",
       "      <td>순순희(기태)</td>\n",
       "      <td>한참을 하늘을 보고 걸어 갔어\\r\\n내 지난 사랑은 온통 미련으로 가득한데\\r\\n사...</td>\n",
       "    </tr>\n",
       "    <tr>\n",
       "      <th>4</th>\n",
       "      <td>해요 (2022)</td>\n",
       "      <td>97,213</td>\n",
       "      <td>#안녕</td>\n",
       "      <td>그녀와 나는요 그땐 참 어렸어요\\r\\n많이 사랑했고 때론 많이 다퉜었죠\\r\\n지금 ...</td>\n",
       "    </tr>\n",
       "  </tbody>\n",
       "</table>\n",
       "</div>"
      ],
      "text/plain": [
       "               Title    Likes   Singer  \\\n",
       "0                 인사  105,245       범진   \n",
       "1       주저하는 연인들을 위해  415,001      잔나비   \n",
       "2            사랑할 수밖에   35,768   볼빨간사춘기   \n",
       "3  그대가 내 안에 박혔다(그내박)   38,463  순순희(기태)   \n",
       "4          해요 (2022)   97,213      #안녕   \n",
       "\n",
       "                                              Lyrics  \n",
       "0  돌아서는 너를 보며\\r\\n난 아무 말도 할 수 없었고\\r\\n슬퍼하기엔 짧았던\\r\\n...  \n",
       "1  나는 읽기 쉬운 마음이야\\r\\n당신도 스윽 훑고 가셔요\\r\\n달랠 길 없는 외로운 ...  \n",
       "2  간지러웠어 널 보는 내 손이\\r\\n다 주고 싶었어 내 안에 남은 사랑까지\\r\\n지켜...  \n",
       "3  한참을 하늘을 보고 걸어 갔어\\r\\n내 지난 사랑은 온통 미련으로 가득한데\\r\\n사...  \n",
       "4  그녀와 나는요 그땐 참 어렸어요\\r\\n많이 사랑했고 때론 많이 다퉜었죠\\r\\n지금 ...  "
      ]
     },
     "execution_count": 9,
     "metadata": {},
     "output_type": "execute_result"
    }
   ],
   "source": [
    "indi = pd.read_csv('songs_rawdata\\인디_5000곡_240402.csv')\n",
    "indi = indi.iloc[:, 1:]\n",
    "print(len(indi))\n",
    "indi.head()"
   ]
  },
  {
   "cell_type": "code",
   "execution_count": 10,
   "metadata": {},
   "outputs": [
    {
     "name": "stdout",
     "output_type": "stream",
     "text": [
      "CPU times: total: 15.6 ms\n",
      "Wall time: 30.8 ms\n"
     ]
    }
   ],
   "source": [
    "%%time\n",
    "text_filepath = 'indi_text.txt'\n",
    "with open(text_filepath, 'w', encoding = 'utf-8') as f:\n",
    "    for lyrics in indi.Lyrics.values:\n",
    "        if pd.isnull(lyrics):\n",
    "            continue\n",
    "        f.write(lyrics+'\\n')"
   ]
  },
  {
   "cell_type": "code",
   "execution_count": 11,
   "metadata": {},
   "outputs": [],
   "source": [
    "bigram_model_filepath = 'bigram_model'\n",
    "sentences_normalized_path = 'indi_text.txt'\n",
    "unigram_sentences = LineSentence(sentences_normalized_path)\n",
    "bigram_model = Phrases(unigram_sentences)\n",
    "bigram_model.save(bigram_model_filepath)"
   ]
  },
  {
   "cell_type": "code",
   "execution_count": 12,
   "metadata": {},
   "outputs": [
    {
     "name": "stdout",
     "output_type": "stream",
     "text": [
      "CPU times: total: 1.62 s\n",
      "Wall time: 1.69 s\n"
     ]
    }
   ],
   "source": [
    "%%time\n",
    "bigram_sentences_filepath = 'sentences_for_word2vec.txt'\n",
    "with open(bigram_sentences_filepath, 'w', encoding = 'utf-8') as f:\n",
    "    for unigram_sentence in unigram_sentences:\n",
    "        bigram_sentence = bigram_model[unigram_sentence]\n",
    "        f.write(' '.join(bigram_sentence) + '\\n')"
   ]
  },
  {
   "cell_type": "code",
   "execution_count": 20,
   "metadata": {},
   "outputs": [
    {
     "name": "stdout",
     "output_type": "stream",
     "text": [
      "CPU times: total: 1min 11s\n",
      "Wall time: 1min 2s\n"
     ]
    }
   ],
   "source": [
    "%%time\n",
    "all2vec_filepath = 'all_word2vec_model'\n",
    "\n",
    "lyrics_for_word2vec = LineSentence(bigram_sentences_filepath)\n",
    "all2vec = Word2Vec(lyrics_for_word2vec, vector_size = 100, window = 5, min_count = 1, sg = 1)\n",
    "all2vec.train(lyrics_for_word2vec, total_examples = 210235, epochs = 10)\n",
    "all2vec.save(all2vec_filepath)"
   ]
  },
  {
   "cell_type": "code",
   "execution_count": 21,
   "metadata": {},
   "outputs": [
    {
     "data": {
      "text/plain": [
       "(82039, 100)"
      ]
     },
     "execution_count": 21,
     "metadata": {},
     "output_type": "execute_result"
    }
   ],
   "source": [
    "all2vec.wv.vectors.shape"
   ]
  },
  {
   "cell_type": "code",
   "execution_count": 22,
   "metadata": {},
   "outputs": [
    {
     "name": "stdout",
     "output_type": "stream",
     "text": [
      "[('영원', 0.6139925718307495), ('내_고향', 0.5941444039344788), ('지금까지_받은', 0.5818619728088379), ('그것은', 0.5766550302505493), ('고백이라는', 0.5731273293495178), ('안녕_잘', 0.5722740888595581), ('인해', 0.5674343109130859), ('믿음', 0.5645585656166077), ('지질한', 0.5642980933189392), ('그것이', 0.5617907047271729)]\n"
     ]
    }
   ],
   "source": [
    "print(all2vec.wv.most_similar('사랑'))"
   ]
  },
  {
   "cell_type": "code",
   "execution_count": 23,
   "metadata": {},
   "outputs": [
    {
     "name": "stdout",
     "output_type": "stream",
     "text": [
      "[('속내', 0.9550658464431763), ('구멍도', 0.9548126459121704), ('슬픔들', 0.9534212946891785), ('버릇과', 0.9522430896759033), ('옷자락', 0.9521971344947815), ('담그고', 0.9500828385353088), ('항기가', 0.948543906211853), ('아버지보다', 0.9484353065490723), ('자그마한,', 0.9480425119400024), ('내마음', 0.9467955231666565)]\n"
     ]
    }
   ],
   "source": [
    "print(all2vec.wv.most_similar('첫번째'))"
   ]
  },
  {
   "cell_type": "code",
   "execution_count": 24,
   "metadata": {},
   "outputs": [],
   "source": [
    "all2vec_1 = Word2Vec.load('all_word2vec_model')"
   ]
  },
  {
   "cell_type": "code",
   "execution_count": 29,
   "metadata": {},
   "outputs": [
    {
     "name": "stdout",
     "output_type": "stream",
     "text": [
      "[('영원', 0.6139925718307495), ('내_고향', 0.5941444039344788), ('지금까지_받은', 0.5818619728088379), ('그것은', 0.5766550302505493), ('고백이라는', 0.5731273293495178)]\n",
      "\n",
      "[('헤어지지말자', 0.3514772653579712), ('Ringing', 0.2806505560874939), ('뚜루루르', 0.2667856514453888), ('april_funk!', 0.26600775122642517), ('꿈속뿐이네', 0.26255476474761963)]\n"
     ]
    }
   ],
   "source": [
    "print(all2vec_1.wv.most_similar(positive = ['사랑'], topn = 5))\n",
    "print()\n",
    "print(all2vec_1.wv.most_similar(negative = ['사랑'], topn = 5))"
   ]
  },
  {
   "cell_type": "code",
   "execution_count": null,
   "metadata": {},
   "outputs": [],
   "source": []
  }
 ],
 "metadata": {
  "kernelspec": {
   "display_name": "project_lyrics",
   "language": "python",
   "name": "python3"
  },
  "language_info": {
   "codemirror_mode": {
    "name": "ipython",
    "version": 3
   },
   "file_extension": ".py",
   "mimetype": "text/x-python",
   "name": "python",
   "nbconvert_exporter": "python",
   "pygments_lexer": "ipython3",
   "version": "3.10.14"
  }
 },
 "nbformat": 4,
 "nbformat_minor": 2
}
